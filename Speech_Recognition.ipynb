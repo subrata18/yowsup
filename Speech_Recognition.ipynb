{
 "cells": [
  {
   "cell_type": "code",
   "execution_count": 1,
   "metadata": {},
   "outputs": [],
   "source": [
    "#This program takes in audio and returns the audio as text\n",
    "\n",
    "##Install pyadio\n",
    "#pip install PyAudio\n",
    "\n",
    "#Install the speech recognition package\n",
    "#pip install SpeechRecognition"
   ]
  },
  {
   "cell_type": "code",
   "execution_count": 1,
   "metadata": {},
   "outputs": [],
   "source": [
    "#Import the libraries\n",
    "import speech_recognition as sr"
   ]
  },
  {
   "cell_type": "code",
   "execution_count": 2,
   "metadata": {},
   "outputs": [],
   "source": [
    "#Record audio and return it as a string\n",
    "def recordAudio():\n",
    "  # Record Audio\n",
    "  r = sr.Recognizer()\n",
    "  with sr.Microphone() as source:\n",
    "    print('Say something!')\n",
    "    audio = r.listen(source)\n",
    "  # Speech recognition using Google Speech Recognition\n",
    "  data = \"\"\n",
    "  try:\n",
    "    data = r.recognize_google(audio)\n",
    "    print(\"You said: \" + data)\n",
    "  except sr.UnknownValueError:\n",
    "    print(\"Google Speech Recognition could not understand audio\")\n",
    "  except sr.RequestError as e:\n",
    "    print(\"Could not request results from Google Speech Recognition service; {0}\".format(e))\n",
    "\n",
    "  return data  "
   ]
  },
  {
   "cell_type": "code",
   "execution_count": 8,
   "metadata": {},
   "outputs": [
    {
     "name": "stdout",
     "output_type": "stream",
     "text": [
      "Say something!\n",
      "You said: hello hello\n"
     ]
    },
    {
     "data": {
      "text/plain": [
       "'hello hello'"
      ]
     },
     "execution_count": 8,
     "metadata": {},
     "output_type": "execute_result"
    }
   ],
   "source": [
    "recordAudio()"
   ]
  },
  {
   "cell_type": "code",
   "execution_count": null,
   "metadata": {},
   "outputs": [],
   "source": []
  }
 ],
 "metadata": {
  "kernelspec": {
   "display_name": "Python 3",
   "language": "python",
   "name": "python3"
  },
  "language_info": {
   "codemirror_mode": {
    "name": "ipython",
    "version": 3
   },
   "file_extension": ".py",
   "mimetype": "text/x-python",
   "name": "python",
   "nbconvert_exporter": "python",
   "pygments_lexer": "ipython3",
   "version": "3.6.5"
  }
 },
 "nbformat": 4,
 "nbformat_minor": 2
}
